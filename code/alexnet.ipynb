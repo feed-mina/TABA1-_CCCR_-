{
  "nbformat": 4,
  "nbformat_minor": 0,
  "metadata": {
    "colab": {
      "provenance": []
    },
    "kernelspec": {
      "name": "python3",
      "display_name": "Python 3"
    },
    "language_info": {
      "name": "python"
    }
  },
  "cells": [
    {
      "cell_type": "markdown",
      "source": [
        "## Alexnet"
      ],
      "metadata": {
        "id": "1CiJkKxPPJMr"
      }
    },
    {
      "cell_type": "code",
      "execution_count": null,
      "metadata": {
        "colab": {
          "base_uri": "https://localhost:8080/"
        },
        "id": "DMrKy0SeglJV",
        "outputId": "da602274-0ffb-4861-a42f-ecc79c6d2b2f"
      },
      "outputs": [
        {
          "output_type": "execute_result",
          "data": {
            "text/plain": [
              "True"
            ]
          },
          "metadata": {},
          "execution_count": 1
        }
      ],
      "source": [
        "import torch\n",
        "\n",
        "device=torch.device('cuda') #gpu\n",
        "torch.cuda.is_available()"
      ]
    },
    {
      "cell_type": "code",
      "source": [
        "from torchvision.datasets import FashionMNIST\n",
        "from torchvision import transforms\n",
        "\n",
        "fashion_mnist_transform=transforms.Compose([\n",
        "    transforms.ToTensor(), #tensor형으로 변경\n",
        "    transforms.Resize(224)  #크기 변경(1X28x28 -> 1X224X224)\n",
        "])\n",
        "\n",
        "download_root='./' #현재위치폴더에 다운로드\n",
        "\n",
        "train_dataset=FashionMNIST(download_root, transform=fashion_mnist_transform, train=True, download=True)\n",
        "test_dataset=FashionMNIST(download_root, transform=fashion_mnist_transform, train=False, download=True)"
      ],
      "metadata": {
        "id": "VgcLPerjhMxc"
      },
      "execution_count": null,
      "outputs": []
    },
    {
      "cell_type": "code",
      "source": [
        "from torch.utils.data import DataLoader\n",
        "\n",
        "batch_size=64\n",
        "\n",
        "train_loader=DataLoader(dataset=train_dataset, batch_size=batch_size, shuffle=True)\n",
        "test_loader=DataLoader(dataset=test_dataset, batch_size=batch_size, shuffle=True)"
      ],
      "metadata": {
        "id": "QejHNbAIiRRr"
      },
      "execution_count": null,
      "outputs": []
    },
    {
      "cell_type": "code",
      "source": [
        "import matplotlib.pyplot as plt\n",
        "\n",
        "plt.imshow(train_dataset[0][0][0].numpy(), cmap='gray')"
      ],
      "metadata": {
        "colab": {
          "base_uri": "https://localhost:8080/",
          "height": 287
        },
        "id": "WGpwixm8i04Z",
        "outputId": "2c630939-c1ef-4002-9092-e968d985f130"
      },
      "execution_count": null,
      "outputs": [
        {
          "output_type": "execute_result",
          "data": {
            "text/plain": [
              "<matplotlib.image.AxesImage at 0x7fb0c358fb50>"
            ]
          },
          "metadata": {},
          "execution_count": 4
        },
        {
          "output_type": "display_data",
          "data": {
            "text/plain": [
              "<Figure size 432x288 with 1 Axes>"
            ],
            "image/png": "[encoded data removed]"
          },
          "metadata": {
            "needs_background": "light"
          }
        }
      ]
    },
    {
      "cell_type": "code",
      "source": [
        "from torch import nn\n",
        "\n",
        "model=nn.Sequential(\n",
        "    #convolution\n",
        "    #fully connected\n",
        "    #Relu\n",
        ")\n",
        "class AlexNet(nn.Module):\n",
        "  def __init__(self):\n",
        "    super().__init__()\n",
        "    self.CNN=nn.Sequential(\n",
        "        nn.Conv2d(in_channels=1, out_channels=48, kernel_size=11, stride=4, padding=0),\n",
        "        nn.ReLU(inplace=True),\n",
        "        nn.LocalResponseNorm(size=5,k=2),\n",
        "        nn.MaxPool2d(kernel_size=3, stride=2),\n",
        "\n",
        "        nn.Conv2d(in_channels=48, out_channels=128, kernel_size=5, stride=1, padding=2),\n",
        "        nn.ReLU(inplace=True),\n",
        "        nn.LocalResponseNorm(size=5,k=2),\n",
        "        nn.MaxPool2d(kernel_size=3, stride=2),\n",
        "\n",
        "        nn.Conv2d(in_channels=128, out_channels=192, kernel_size=3, stride=1, padding=1),\n",
        "        nn.ReLU(inplace=True),\n",
        "        nn.LocalResponseNorm(size=5,k=2),\n",
        "\n",
        "        nn.Conv2d(in_channels=192, out_channels=192, kernel_size=3, stride=1, padding=1),\n",
        "        nn.ReLU(inplace=True),\n",
        "        nn.LocalResponseNorm(size=5,k=2),\n",
        "\n",
        "        nn.Conv2d(in_channels=192, out_channels=128, kernel_size=3, stride=1, padding=1),\n",
        "        nn.ReLU(inplace=True),\n",
        "        nn.LocalResponseNorm(size=5,k=2),\n",
        "        nn.MaxPool2d(kernel_size=3, stride=2)\n",
        "    )\n",
        "    self.FC=nn.Sequential(\n",
        "        nn.Linear(128*6*6,2048),\n",
        "        nn.ReLU(True),\n",
        "        nn.Dropout(0.5), #절반의 model은 날리고 학습에 사용\n",
        "        \n",
        "        nn.Linear(2048,2048),\n",
        "        nn.ReLU(True),\n",
        "        nn.Dropout(0.5),\n",
        "\n",
        "        nn.Linear(2048,10),\n",
        "        nn.Softmax()\n",
        "    )\n",
        "    #bbbb\n",
        "\n",
        "  def forward(self, inp):\n",
        "    cnn_res=self.CNN(inp)\n",
        "    #flatten 128*6*6 -> 00000\n",
        "    flatten=torch.flatten(cnn_res, 1)\n",
        "    fc_res=self.FC(flatten)\n",
        "    return fc_res"
      ],
      "metadata": {
        "id": "ZVc9akiXjEUl"
      },
      "execution_count": null,
      "outputs": []
    },
    {
      "cell_type": "code",
      "source": [
        "from torch import optim\n",
        "\n",
        "def train(model, epochs):\n",
        "\n",
        "  #optimizer 설정(가중치 학습할때 어느정도 반영할지, train model의 parameter 모두 집어넣은 것)\n",
        "  optimizer=optim.Adam(model.parameters(), lr=0.0001)\n",
        "  #loss function\n",
        "  criterion=nn.CrossEntropyLoss()  #classification 분류 \n",
        "\n",
        "  for epoch in range(epochs):\n",
        "    model.train()  #model을 train 상태로\n",
        "    train_accuracy=0.0\n",
        "\n",
        "    for batch_ind, samples in enumerate(train_loader):\n",
        "      x_t,y_t=samples #x는 입력 y는 출력\n",
        "      #device로 x_t, y_t 보냄\n",
        "      x_t,y_t=x_t.to(device),y_t.to(device)\n",
        "      \n",
        "      # x_t 넣어서 predicted \n",
        "      pred=model(x_t)\n",
        "      \n",
        "      # predicted랑 y_t 비교\n",
        "      # 둘의 차이 = loss 계산\n",
        "      loss=criterion(pred, y_t)\n",
        "\n",
        "      # loss값을 가지고 back-propagation weight를 업데이트\n",
        "      # optimizer가 해줍니다\n",
        "      optimizer.zero_grad()\n",
        "      loss.backward()\n",
        "      optimizer.step()\n",
        "\n",
        "   # accuracy test for train dataset\n",
        "    model.eval()  #model을 평가상태로\n",
        "    correct=0\n",
        "    for xx,yy in train_loader:\n",
        "      data, target=xx.to(device), yy.to(device)\n",
        "      pred=model(data) #pred [0,0,0.1,0.2,0.1,...0] 합 1\n",
        "      _, predicted=torch.max(pred,1)\n",
        "      correct+=predicted.eq(target.data).sum()\n",
        "\n",
        "    print(\"train accuracy:\",(100.*correct/len(train_loader.dataset)).item())"
      ],
      "metadata": {
        "id": "TOFP5bOonMc6"
      },
      "execution_count": null,
      "outputs": []
    },
    {
      "cell_type": "code",
      "source": [
        "alexnet=AlexNet()\n",
        "alexnet.to(device)\n",
        "train(alexnet,10)"
      ],
      "metadata": {
        "colab": {
          "base_uri": "https://localhost:8080/"
        },
        "id": "cej3GQT7r_gW",
        "outputId": "daa36e3b-3ab1-4a33-fa7b-0fa11919909d"
      },
      "execution_count": null,
      "outputs": [
        {
          "output_type": "stream",
          "name": "stdout",
          "text": [
            "train accuracy: 72.61000061035156\n",
            "train accuracy: 77.0616683959961\n",
            "train accuracy: 79.1500015258789\n",
            "train accuracy: 80.08833312988281\n",
            "train accuracy: 85.53833770751953\n",
            "train accuracy: 87.4183349609375\n",
            "train accuracy: 88.54666900634766\n",
            "train accuracy: 88.66500091552734\n",
            "train accuracy: 88.71833801269531\n",
            "train accuracy: 90.05999755859375\n"
          ]
        }
      ]
    },
    {
      "cell_type": "markdown",
      "source": [
        "## train(mode,3) -> 알아서 학습"
      ],
      "metadata": {
        "id": "lKWmFQTtno40"
      }
    },
    {
      "cell_type": "code",
      "source": [
        "def get_n_params(model):\n",
        "  pp=0\n",
        "  for p in list(model.parameters()):\n",
        "    nn=1\n",
        "    for s in list(p.size()):\n",
        "      nn=nn*s\n",
        "    pp+=nn\n",
        "  return pp"
      ],
      "metadata": {
        "id": "uJqjKW5unnlW"
      },
      "execution_count": null,
      "outputs": []
    },
    {
      "cell_type": "code",
      "source": [
        "get_n_params(alexnet)"
      ],
      "metadata": {
        "colab": {
          "base_uri": "https://localhost:8080/"
        },
        "id": "a7086GsQoQKx",
        "outputId": "2add7470-a85c-4af3-a165-260cfa187627"
      },
      "execution_count": null,
      "outputs": [
        {
          "output_type": "execute_result",
          "data": {
            "text/plain": [
              "14590314"
            ]
          },
          "metadata": {},
          "execution_count": 34
        }
      ]
    },
    {
      "cell_type": "code",
      "source": [
        "alexnet.eval()\n",
        "correct=0\n",
        "for xx,yy in test_loader:\n",
        "  data, target=xx.to(device), yy.to(device)\n",
        "  pred=alexnet(data) #pred [0,0,0.1,0.2,0.1,...0] 합 1\n",
        "  _, predicted=torch.max(pred,1)\n",
        "  correct+=predicted.eq(target.data).sum()\n",
        "\n",
        "print(\"train accuracy:\",(100.*correct/len(train_loader.dataset)).item())"
      ],
      "metadata": {
        "colab": {
          "base_uri": "https://localhost:8080/"
        },
        "id": "rJWUwRmIoSqA",
        "outputId": "fa72f4cf-1c99-4998-8413-7ca4bc5faf38"
      },
      "execution_count": null,
      "outputs": [
        {
          "output_type": "stream",
          "name": "stderr",
          "text": [
            "/usr/local/lib/python3.7/dist-packages/torch/nn/modules/container.py:139: UserWarning: Implicit dimension choice for softmax has been deprecated. Change the call to include dim=X as an argument.\n",
            "  input = module(input)\n"
          ]
        },
        {
          "output_type": "stream",
          "name": "stdout",
          "text": [
            "train accuracy: 14.851666450500488\n"
          ]
        }
      ]
    },
    {
      "cell_type": "code",
      "source": [
        "alexnet"
      ],
      "metadata": {
        "colab": {
          "base_uri": "https://localhost:8080/"
        },
        "id": "K8Yf4XnXwkS9",
        "outputId": "2a58f6f6-bfae-4ad0-83ae-dc0458cacd79"
      },
      "execution_count": null,
      "outputs": [
        {
          "output_type": "execute_result",
          "data": {
            "text/plain": [
              "AlexNet(\n",
              "  (CNN): Sequential(\n",
              "    (0): Conv2d(1, 48, kernel_size=(11, 11), stride=(4, 4))\n",
              "    (1): ReLU(inplace=True)\n",
              "    (2): LocalResponseNorm(5, alpha=0.0001, beta=0.75, k=2)\n",
              "    (3): MaxPool2d(kernel_size=3, stride=2, padding=0, dilation=1, ceil_mode=False)\n",
              "    (4): Conv2d(48, 128, kernel_size=(5, 5), stride=(1, 1), padding=(2, 2))\n",
              "    (5): ReLU(inplace=True)\n",
              "    (6): LocalResponseNorm(5, alpha=0.0001, beta=0.75, k=2)\n",
              "    (7): MaxPool2d(kernel_size=3, stride=2, padding=0, dilation=1, ceil_mode=False)\n",
              "    (8): Conv2d(128, 192, kernel_size=(3, 3), stride=(1, 1), padding=(1, 1))\n",
              "    (9): ReLU(inplace=True)\n",
              "    (10): LocalResponseNorm(5, alpha=0.0001, beta=0.75, k=2)\n",
              "    (11): Conv2d(192, 192, kernel_size=(3, 3), stride=(1, 1), padding=(1, 1))\n",
              "    (12): ReLU(inplace=True)\n",
              "    (13): LocalResponseNorm(5, alpha=0.0001, beta=0.75, k=2)\n",
              "    (14): Conv2d(192, 128, kernel_size=(3, 3), stride=(1, 1), padding=(1, 1))\n",
              "    (15): ReLU(inplace=True)\n",
              "    (16): LocalResponseNorm(5, alpha=0.0001, beta=0.75, k=2)\n",
              "    (17): MaxPool2d(kernel_size=3, stride=2, padding=0, dilation=1, ceil_mode=False)\n",
              "  )\n",
              "  (FC): Sequential(\n",
              "    (0): Linear(in_features=4608, out_features=2048, bias=True)\n",
              "    (1): ReLU(inplace=True)\n",
              "    (2): Dropout(p=0.5, inplace=False)\n",
              "    (3): Linear(in_features=2048, out_features=2048, bias=True)\n",
              "    (4): ReLU(inplace=True)\n",
              "    (5): Dropout(p=0.5, inplace=False)\n",
              "    (6): Linear(in_features=2048, out_features=10, bias=True)\n",
              "    (7): Softmax(dim=None)\n",
              "  )\n",
              ")"
            ]
          },
          "metadata": {},
          "execution_count": 38
        }
      ]
    }
  ]
}